{
  "nbformat": 4,
  "nbformat_minor": 0,
  "metadata": {
    "colab": {
      "name": "Linear Regression -Keras.ipynb",
      "provenance": [],
      "collapsed_sections": []
    },
    "kernelspec": {
      "name": "python3",
      "display_name": "Python 3"
    }
  },
  "cells": [
    {
      "cell_type": "code",
      "metadata": {
        "id": "EiiMlB8mYLos"
      },
      "source": [
        "# Regression - Continuos value\n",
        "# Ex: Price of a land based upon Area\n",
        "# Determine the temperature based upon humidity,wind condition etc\n",
        "# Price of a car based on year of registration,P/D,Engine size . Cars24"
      ],
      "execution_count": null,
      "outputs": []
    },
    {
      "cell_type": "code",
      "metadata": {
        "id": "QfTPdkpDYqU_",
        "colab": {
          "base_uri": "https://localhost:8080/"
        },
        "outputId": "ca9b9b87-c44c-4e46-cb07-e08dd9928d36"
      },
      "source": [
        "from keras.datasets import boston_housing\n",
        "(x_train, y_train), (x_test, y_test) = boston_housing.load_data()"
      ],
      "execution_count": null,
      "outputs": [
        {
          "output_type": "stream",
          "text": [
            "Downloading data from https://storage.googleapis.com/tensorflow/tf-keras-datasets/boston_housing.npz\n",
            "57344/57026 [==============================] - 0s 0us/step\n"
          ],
          "name": "stdout"
        }
      ]
    },
    {
      "cell_type": "code",
      "metadata": {
        "id": "buIP4BIBZkqp"
      },
      "source": [
        "# x_train - Input Training Data\n",
        "# y_train - Output Training Data\n",
        "# x_test - Input Testing Data\n",
        "# y_test - Output Testing Data"
      ],
      "execution_count": null,
      "outputs": []
    },
    {
      "cell_type": "code",
      "metadata": {
        "id": "ULcl3tSGZ5-X",
        "colab": {
          "base_uri": "https://localhost:8080/"
        },
        "outputId": "d698dd5d-6540-44c3-ac28-43082d4fa49f"
      },
      "source": [
        "x_train.shape"
      ],
      "execution_count": null,
      "outputs": [
        {
          "output_type": "execute_result",
          "data": {
            "text/plain": [
              "(404, 13)"
            ]
          },
          "metadata": {
            "tags": []
          },
          "execution_count": 2
        }
      ]
    },
    {
      "cell_type": "code",
      "metadata": {
        "id": "wTCJkH80Z-jK",
        "colab": {
          "base_uri": "https://localhost:8080/"
        },
        "outputId": "330367ea-0be4-4c4d-a26e-76f041e10ba1"
      },
      "source": [
        "x_test.shape"
      ],
      "execution_count": null,
      "outputs": [
        {
          "output_type": "execute_result",
          "data": {
            "text/plain": [
              "(102, 13)"
            ]
          },
          "metadata": {
            "tags": []
          },
          "execution_count": 3
        }
      ]
    },
    {
      "cell_type": "code",
      "metadata": {
        "id": "Zm8iYn5aaAP8",
        "colab": {
          "base_uri": "https://localhost:8080/"
        },
        "outputId": "3cf3ef52-96ab-42ef-f17b-43f6c7d60c6c"
      },
      "source": [
        "404+102"
      ],
      "execution_count": null,
      "outputs": [
        {
          "output_type": "execute_result",
          "data": {
            "text/plain": [
              "506"
            ]
          },
          "metadata": {
            "tags": []
          },
          "execution_count": 4
        }
      ]
    },
    {
      "cell_type": "code",
      "metadata": {
        "id": "zxJwKrMqaOWk"
      },
      "source": [
        "# # NN Architecture\n",
        "# Hidden Layer : 13 Neurons,Activation Function -Relu\n",
        "# Output Layer : 1 Neuron, Activation Function -Relu\n",
        "\n"
      ],
      "execution_count": null,
      "outputs": []
    },
    {
      "cell_type": "code",
      "metadata": {
        "id": "DQAqst8fcFoN"
      },
      "source": [
        "import tensorflow as tf\n",
        "import tensorflow.keras as keras"
      ],
      "execution_count": null,
      "outputs": []
    },
    {
      "cell_type": "code",
      "metadata": {
        "id": "HakSncgDaCSa"
      },
      "source": [
        "model = keras.Sequential()\n",
        "model.add(keras.layers.Dense(units = 13,activation='relu'))\n",
        "model.add(keras.layers.Dense(units = 1,activation='relu'))"
      ],
      "execution_count": null,
      "outputs": []
    },
    {
      "cell_type": "code",
      "metadata": {
        "id": "iyvoB2AUccBQ"
      },
      "source": [
        "model.compile(optimizer='adam',loss='mse')"
      ],
      "execution_count": null,
      "outputs": []
    },
    {
      "cell_type": "code",
      "metadata": {
        "id": "1FvxmPFGcjJN",
        "colab": {
          "base_uri": "https://localhost:8080/"
        },
        "outputId": "d12b20c1-9a78-4b0e-e5d7-d3d09fcbe9f6"
      },
      "source": [
        "history = model.fit(x_train,y_train,epochs=100)"
      ],
      "execution_count": null,
      "outputs": [
        {
          "output_type": "stream",
          "text": [
            "Epoch 1/100\n",
            "13/13 [==============================] - 0s 1ms/step - loss: 582.1099\n",
            "Epoch 2/100\n",
            "13/13 [==============================] - 0s 1ms/step - loss: 581.5785\n",
            "Epoch 3/100\n",
            "13/13 [==============================] - 0s 1ms/step - loss: 581.2130\n",
            "Epoch 4/100\n",
            "13/13 [==============================] - 0s 1ms/step - loss: 581.1312\n",
            "Epoch 5/100\n",
            "13/13 [==============================] - 0s 1ms/step - loss: 580.9700\n",
            "Epoch 6/100\n",
            "13/13 [==============================] - 0s 1ms/step - loss: 580.8865\n",
            "Epoch 7/100\n",
            "13/13 [==============================] - 0s 1ms/step - loss: 580.8480\n",
            "Epoch 8/100\n",
            "13/13 [==============================] - 0s 1ms/step - loss: 580.8146\n",
            "Epoch 9/100\n",
            "13/13 [==============================] - 0s 1ms/step - loss: 580.6058\n",
            "Epoch 10/100\n",
            "13/13 [==============================] - 0s 1ms/step - loss: 580.8423\n",
            "Epoch 11/100\n",
            "13/13 [==============================] - 0s 1ms/step - loss: 580.3850\n",
            "Epoch 12/100\n",
            "13/13 [==============================] - 0s 1ms/step - loss: 580.2546\n",
            "Epoch 13/100\n",
            "13/13 [==============================] - 0s 1ms/step - loss: 580.4822\n",
            "Epoch 14/100\n",
            "13/13 [==============================] - 0s 1ms/step - loss: 580.1599\n",
            "Epoch 15/100\n",
            "13/13 [==============================] - 0s 1ms/step - loss: 580.0271\n",
            "Epoch 16/100\n",
            "13/13 [==============================] - 0s 1ms/step - loss: 580.0225\n",
            "Epoch 17/100\n",
            "13/13 [==============================] - 0s 1ms/step - loss: 579.8970\n",
            "Epoch 18/100\n",
            "13/13 [==============================] - 0s 1ms/step - loss: 579.8824\n",
            "Epoch 19/100\n",
            "13/13 [==============================] - 0s 1ms/step - loss: 579.8622\n",
            "Epoch 20/100\n",
            "13/13 [==============================] - 0s 1ms/step - loss: 579.7436\n",
            "Epoch 21/100\n",
            "13/13 [==============================] - 0s 1ms/step - loss: 579.7607\n",
            "Epoch 22/100\n",
            "13/13 [==============================] - 0s 1ms/step - loss: 579.6569\n",
            "Epoch 23/100\n",
            "13/13 [==============================] - 0s 1ms/step - loss: 579.6731\n",
            "Epoch 24/100\n",
            "13/13 [==============================] - 0s 1ms/step - loss: 579.4874\n",
            "Epoch 25/100\n",
            "13/13 [==============================] - 0s 1ms/step - loss: 579.4595\n",
            "Epoch 26/100\n",
            "13/13 [==============================] - 0s 1ms/step - loss: 578.9121\n",
            "Epoch 27/100\n",
            "13/13 [==============================] - 0s 1ms/step - loss: 577.9898\n",
            "Epoch 28/100\n",
            "13/13 [==============================] - 0s 1ms/step - loss: 557.3154\n",
            "Epoch 29/100\n",
            "13/13 [==============================] - 0s 1ms/step - loss: 272.1769\n",
            "Epoch 30/100\n",
            "13/13 [==============================] - 0s 1ms/step - loss: 197.5547\n",
            "Epoch 31/100\n",
            "13/13 [==============================] - 0s 1ms/step - loss: 160.3001\n",
            "Epoch 32/100\n",
            "13/13 [==============================] - 0s 1ms/step - loss: 119.3602\n",
            "Epoch 33/100\n",
            "13/13 [==============================] - 0s 1ms/step - loss: 98.3395\n",
            "Epoch 34/100\n",
            "13/13 [==============================] - 0s 1ms/step - loss: 82.7092\n",
            "Epoch 35/100\n",
            "13/13 [==============================] - 0s 1ms/step - loss: 74.0889\n",
            "Epoch 36/100\n",
            "13/13 [==============================] - 0s 1ms/step - loss: 68.7204\n",
            "Epoch 37/100\n",
            "13/13 [==============================] - 0s 1ms/step - loss: 64.9872\n",
            "Epoch 38/100\n",
            "13/13 [==============================] - 0s 1ms/step - loss: 61.7139\n",
            "Epoch 39/100\n",
            "13/13 [==============================] - 0s 1ms/step - loss: 59.3318\n",
            "Epoch 40/100\n",
            "13/13 [==============================] - 0s 2ms/step - loss: 57.3905\n",
            "Epoch 41/100\n",
            "13/13 [==============================] - 0s 1ms/step - loss: 56.2484\n",
            "Epoch 42/100\n",
            "13/13 [==============================] - 0s 1ms/step - loss: 54.3157\n",
            "Epoch 43/100\n",
            "13/13 [==============================] - 0s 1ms/step - loss: 52.9763\n",
            "Epoch 44/100\n",
            "13/13 [==============================] - 0s 1ms/step - loss: 50.5847\n",
            "Epoch 45/100\n",
            "13/13 [==============================] - 0s 1ms/step - loss: 50.2994\n",
            "Epoch 46/100\n",
            "13/13 [==============================] - 0s 1ms/step - loss: 48.5930\n",
            "Epoch 47/100\n",
            "13/13 [==============================] - 0s 1ms/step - loss: 47.5896\n",
            "Epoch 48/100\n",
            "13/13 [==============================] - 0s 1ms/step - loss: 46.9588\n",
            "Epoch 49/100\n",
            "13/13 [==============================] - 0s 1ms/step - loss: 46.0572\n",
            "Epoch 50/100\n",
            "13/13 [==============================] - 0s 1ms/step - loss: 44.9458\n",
            "Epoch 51/100\n",
            "13/13 [==============================] - 0s 1ms/step - loss: 46.5561\n",
            "Epoch 52/100\n",
            "13/13 [==============================] - 0s 1ms/step - loss: 44.3689\n",
            "Epoch 53/100\n",
            "13/13 [==============================] - 0s 2ms/step - loss: 42.9614\n",
            "Epoch 54/100\n",
            "13/13 [==============================] - 0s 1ms/step - loss: 42.6532\n",
            "Epoch 55/100\n",
            "13/13 [==============================] - 0s 1ms/step - loss: 42.1433\n",
            "Epoch 56/100\n",
            "13/13 [==============================] - 0s 1ms/step - loss: 42.1203\n",
            "Epoch 57/100\n",
            "13/13 [==============================] - 0s 1ms/step - loss: 40.9967\n",
            "Epoch 58/100\n",
            "13/13 [==============================] - 0s 1ms/step - loss: 40.0313\n",
            "Epoch 59/100\n",
            "13/13 [==============================] - 0s 1ms/step - loss: 39.3301\n",
            "Epoch 60/100\n",
            "13/13 [==============================] - 0s 1ms/step - loss: 38.8943\n",
            "Epoch 61/100\n",
            "13/13 [==============================] - 0s 1ms/step - loss: 38.7055\n",
            "Epoch 62/100\n",
            "13/13 [==============================] - 0s 1ms/step - loss: 38.2792\n",
            "Epoch 63/100\n",
            "13/13 [==============================] - 0s 1ms/step - loss: 38.1342\n",
            "Epoch 64/100\n",
            "13/13 [==============================] - 0s 1ms/step - loss: 37.5504\n",
            "Epoch 65/100\n",
            "13/13 [==============================] - 0s 1ms/step - loss: 38.1218\n",
            "Epoch 66/100\n",
            "13/13 [==============================] - 0s 1ms/step - loss: 36.9893\n",
            "Epoch 67/100\n",
            "13/13 [==============================] - 0s 1ms/step - loss: 36.2019\n",
            "Epoch 68/100\n",
            "13/13 [==============================] - 0s 1ms/step - loss: 36.4184\n",
            "Epoch 69/100\n",
            "13/13 [==============================] - 0s 1ms/step - loss: 36.4367\n",
            "Epoch 70/100\n",
            "13/13 [==============================] - 0s 1ms/step - loss: 35.5997\n",
            "Epoch 71/100\n",
            "13/13 [==============================] - 0s 1ms/step - loss: 34.8636\n",
            "Epoch 72/100\n",
            "13/13 [==============================] - 0s 1ms/step - loss: 35.4540\n",
            "Epoch 73/100\n",
            "13/13 [==============================] - 0s 1ms/step - loss: 34.6274\n",
            "Epoch 74/100\n",
            "13/13 [==============================] - 0s 1ms/step - loss: 35.2974\n",
            "Epoch 75/100\n",
            "13/13 [==============================] - 0s 1ms/step - loss: 35.0094\n",
            "Epoch 76/100\n",
            "13/13 [==============================] - 0s 1ms/step - loss: 33.7439\n",
            "Epoch 77/100\n",
            "13/13 [==============================] - 0s 1ms/step - loss: 33.7860\n",
            "Epoch 78/100\n",
            "13/13 [==============================] - 0s 1ms/step - loss: 34.1318\n",
            "Epoch 79/100\n",
            "13/13 [==============================] - 0s 1ms/step - loss: 33.7342\n",
            "Epoch 80/100\n",
            "13/13 [==============================] - 0s 1ms/step - loss: 33.2261\n",
            "Epoch 81/100\n",
            "13/13 [==============================] - 0s 1ms/step - loss: 32.8575\n",
            "Epoch 82/100\n",
            "13/13 [==============================] - 0s 1ms/step - loss: 33.0386\n",
            "Epoch 83/100\n",
            "13/13 [==============================] - 0s 1ms/step - loss: 32.5869\n",
            "Epoch 84/100\n",
            "13/13 [==============================] - 0s 2ms/step - loss: 32.2287\n",
            "Epoch 85/100\n",
            "13/13 [==============================] - 0s 1ms/step - loss: 32.2542\n",
            "Epoch 86/100\n",
            "13/13 [==============================] - 0s 2ms/step - loss: 32.2830\n",
            "Epoch 87/100\n",
            "13/13 [==============================] - 0s 1ms/step - loss: 32.1513\n",
            "Epoch 88/100\n",
            "13/13 [==============================] - 0s 2ms/step - loss: 32.4421\n",
            "Epoch 89/100\n",
            "13/13 [==============================] - 0s 1ms/step - loss: 31.9568\n",
            "Epoch 90/100\n",
            "13/13 [==============================] - 0s 1ms/step - loss: 34.1903\n",
            "Epoch 91/100\n",
            "13/13 [==============================] - 0s 1ms/step - loss: 31.7116\n",
            "Epoch 92/100\n",
            "13/13 [==============================] - 0s 2ms/step - loss: 31.2352\n",
            "Epoch 93/100\n",
            "13/13 [==============================] - 0s 1ms/step - loss: 31.0898\n",
            "Epoch 94/100\n",
            "13/13 [==============================] - 0s 2ms/step - loss: 31.0859\n",
            "Epoch 95/100\n",
            "13/13 [==============================] - 0s 1ms/step - loss: 30.9089\n",
            "Epoch 96/100\n",
            "13/13 [==============================] - 0s 1ms/step - loss: 31.9060\n",
            "Epoch 97/100\n",
            "13/13 [==============================] - 0s 1ms/step - loss: 31.4133\n",
            "Epoch 98/100\n",
            "13/13 [==============================] - 0s 1ms/step - loss: 30.4088\n",
            "Epoch 99/100\n",
            "13/13 [==============================] - 0s 2ms/step - loss: 30.9171\n",
            "Epoch 100/100\n",
            "13/13 [==============================] - 0s 1ms/step - loss: 30.4993\n"
          ],
          "name": "stdout"
        }
      ]
    },
    {
      "cell_type": "code",
      "metadata": {
        "id": "dkpyOTaZcstV",
        "colab": {
          "base_uri": "https://localhost:8080/",
          "height": 283
        },
        "outputId": "e381e547-b8c1-43c9-cdf9-f03cf6aaed5d"
      },
      "source": [
        "import matplotlib.pyplot as plt\n",
        "\n",
        "plt.plot(history.history['loss'])"
      ],
      "execution_count": null,
      "outputs": [
        {
          "output_type": "execute_result",
          "data": {
            "text/plain": [
              "[<matplotlib.lines.Line2D at 0x7fcb9c95cb00>]"
            ]
          },
          "metadata": {
            "tags": []
          },
          "execution_count": 10
        },
        {
          "output_type": "display_data",
          "data": {
            "image/png": "[encoded data removed]",
            "text/plain": [
              "<Figure size 432x288 with 1 Axes>"
            ]
          },
          "metadata": {
            "tags": [],
            "needs_background": "light"
          }
        }
      ]
    },
    {
      "cell_type": "code",
      "metadata": {
        "id": "1kCeCvpndLkc",
        "colab": {
          "base_uri": "https://localhost:8080/"
        },
        "outputId": "606d07b0-ef00-4d9f-beba-f25e41a1c7a9"
      },
      "source": [
        "t = x_test[0:2]\n",
        "t"
      ],
      "execution_count": null,
      "outputs": [
        {
          "output_type": "execute_result",
          "data": {
            "text/plain": [
              "array([[1.80846e+01, 0.00000e+00, 1.81000e+01, 0.00000e+00, 6.79000e-01,\n",
              "        6.43400e+00, 1.00000e+02, 1.83470e+00, 2.40000e+01, 6.66000e+02,\n",
              "        2.02000e+01, 2.72500e+01, 2.90500e+01],\n",
              "       [1.23290e-01, 0.00000e+00, 1.00100e+01, 0.00000e+00, 5.47000e-01,\n",
              "        5.91300e+00, 9.29000e+01, 2.35340e+00, 6.00000e+00, 4.32000e+02,\n",
              "        1.78000e+01, 3.94950e+02, 1.62100e+01]])"
            ]
          },
          "metadata": {
            "tags": []
          },
          "execution_count": 20
        }
      ]
    },
    {
      "cell_type": "code",
      "metadata": {
        "id": "Ks4JTit9dPXZ",
        "colab": {
          "base_uri": "https://localhost:8080/"
        },
        "outputId": "11c97001-9465-44bf-b3c0-0adda0a00306"
      },
      "source": [
        "y_test[0]"
      ],
      "execution_count": null,
      "outputs": [
        {
          "output_type": "execute_result",
          "data": {
            "text/plain": [
              "7.2"
            ]
          },
          "metadata": {
            "tags": []
          },
          "execution_count": 12
        }
      ]
    },
    {
      "cell_type": "code",
      "metadata": {
        "id": "RYg-l41jc_2W",
        "colab": {
          "base_uri": "https://localhost:8080/"
        },
        "outputId": "cdfb1f05-0e11-4f55-d889-6f55bd54529d"
      },
      "source": [
        "\n",
        "model.predict(t)"
      ],
      "execution_count": null,
      "outputs": [
        {
          "output_type": "execute_result",
          "data": {
            "text/plain": [
              "array([[ 9.932705],\n",
              "       [18.298561]], dtype=float32)"
            ]
          },
          "metadata": {
            "tags": []
          },
          "execution_count": 21
        }
      ]
    },
    {
      "cell_type": "code",
      "metadata": {
        "id": "31DoV9dCdVIm",
        "colab": {
          "base_uri": "https://localhost:8080/"
        },
        "outputId": "8f2dbe91-465e-4d8a-d52e-0ceddbba629b"
      },
      "source": [
        "y_test"
      ],
      "execution_count": null,
      "outputs": [
        {
          "output_type": "execute_result",
          "data": {
            "text/plain": [
              "array([ 7.2, 18.8, 19. , 27. , 22.2, 24.5, 31.2, 22.9, 20.5, 23.2, 18.6,\n",
              "       14.5, 17.8, 50. , 20.8, 24.3, 24.2, 19.8, 19.1, 22.7, 12. , 10.2,\n",
              "       20. , 18.5, 20.9, 23. , 27.5, 30.1,  9.5, 22. , 21.2, 14.1, 33.1,\n",
              "       23.4, 20.1,  7.4, 15.4, 23.8, 20.1, 24.5, 33. , 28.4, 14.1, 46.7,\n",
              "       32.5, 29.6, 28.4, 19.8, 20.2, 25. , 35.4, 20.3,  9.7, 14.5, 34.9,\n",
              "       26.6,  7.2, 50. , 32.4, 21.6, 29.8, 13.1, 27.5, 21.2, 23.1, 21.9,\n",
              "       13. , 23.2,  8.1,  5.6, 21.7, 29.6, 19.6,  7. , 26.4, 18.9, 20.9,\n",
              "       28.1, 35.4, 10.2, 24.3, 43.1, 17.6, 15.4, 16.2, 27.1, 21.4, 21.5,\n",
              "       22.4, 25. , 16.6, 18.6, 22. , 42.8, 35.1, 21.5, 36. , 21.9, 24.1,\n",
              "       50. , 26.7, 25. ])"
            ]
          },
          "metadata": {
            "tags": []
          },
          "execution_count": 19
        }
      ]
    },
    {
      "cell_type": "code",
      "metadata": {
        "id": "mXTFCDjMeA_m"
      },
      "source": [
        "# ASSIGNMENT:\n",
        "\n",
        "# 1. Plot Sigmoid Curve using Numpy and Matplotlib\n",
        "# 2. Why Sigmoid isnt preferred tp be used in Hidden layers of a Deep Neural Network\n",
        "\n",
        "# HINT: Vanishing Gradient Problem"
      ],
      "execution_count": null,
      "outputs": []
    }
  ]
}